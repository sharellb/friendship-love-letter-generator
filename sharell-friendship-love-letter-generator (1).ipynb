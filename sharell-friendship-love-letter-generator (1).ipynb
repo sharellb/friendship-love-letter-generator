{
 "cells": [
  {
   "cell_type": "markdown",
   "metadata": {},
   "source": [
    "# Sharell's Friendship Love Letter Generator, based on  Implementations of early and well-known poetry generators \n",
    "\n",
    "By [Sharell Bryant](https://sharell-bryant-blog.notion.site/Sharell-s-Blog-Reading-and-Writing-Electronic-Text-3133df5e06e8432fbac16c1f50669c08?pvs=4) based on the Love Letter Generator example in this [Jupyter notebook](https://github.com/aparrish/rwet/blob/master/some-poetry-generators.ipynb) by [Allison Parrish](http://www.decontextualize.com/) as part of the class [Reading and Writing Electronic Text Spring 2024](https://rwet.decontextualize.com/).\n",
    "\n"
   ]
  },
  {
   "cell_type": "markdown",
   "metadata": {},
   "source": [
    "## Friendship Love Letter Generator\n",
    "\n",
    "From Allison's original example: Original by Christopher Strachey, written for the Manchester Mark I in 1952. [Read more here](https://grandtextauto.soe.ucsc.edu/2005/08/01/christopher-strachey-first-digital-artist/).\n",
    "\n",
    "Updated with Sharell's own vocabulary from free writes and notes app collection. Original vocabulary based on [this implementation](https://github.com/gingerbeardman/loveletter/blob/master/index.php)."
   ]
  },
  {
   "cell_type": "code",
   "execution_count": 15,
   "metadata": {},
   "outputs": [],
   "source": [
    "sal_adjs = [\n",
    "\"Honey\", \n",
    "\"Dear\",\n",
    "\"Love\"\n",
    "\"Flagellan\"\n",
    "]"
   ]
  },
  {
   "cell_type": "code",
   "execution_count": 16,
   "metadata": {},
   "outputs": [],
   "source": [
    "sal_nouns = [\n",
    "\"Anxiety\",\n",
    "\"Now\",\n",
    "\"Friend\",\n",
    "\"Time\"\n",
    "]"
   ]
  },
  {
   "cell_type": "code",
   "execution_count": 17,
   "metadata": {},
   "outputs": [],
   "source": [
    "adjs = [\n",
    "\"guided\",\n",
    "\"acrylic\",\n",
    "\"silver\",\n",
    "\"empathetic\",\n",
    "\"innocuous\",\n",
    "\"gentle\",\n",
    "\"silky\",\n",
    "\"purple\",\n",
    "\"aqua\",\n",
    "\"emerald\"\n",
    "\"quartz\",\n",
    "\"centrifugal\",\n",
    "\"orbital\"\n",
    "]"
   ]
  },
  {
   "cell_type": "code",
   "execution_count": 18,
   "metadata": {},
   "outputs": [],
   "source": [
    "nouns = [\n",
    "\"everyone\",\n",
    "\"citrus claw\",\n",
    "\"oyster\",\n",
    "\"Hot Hands\",\n",
    "\"flagella\",\n",
    "\"sea sponge\",\n",
    "\"Brady Bunch\",\n",
    "\"Julius Beaker\",\n",
    "\"jawn affirmation junction\",\n",
    "\"lorem fortuna\",\n",
    "\"horse girl\",\n",
    "\"sforzando amygdala\",\n",
    "\"acetylation acetone\",\n",
    "\"kanekalon tattoo\",\n",
    "\"Bahamas Connect Four\",\n",
    "\"stalactite\"\n",
    "]\n"
   ]
  },
  {
   "cell_type": "code",
   "execution_count": 19,
   "metadata": {},
   "outputs": [],
   "source": [
    "advs = [\n",
    "    'gently',\n",
    "    'kindly',\n",
    "    'quickly',\n",
    "    'softly',\n",
    "    'patiently',\n",
    "    'lovingly',\n",
    "    'tenderly',\n",
    "]"
   ]
  },
  {
   "cell_type": "code",
   "execution_count": 20,
   "metadata": {},
   "outputs": [],
   "source": [
    "verbs = [\n",
    "    'magnifies',\n",
    "    'resolves',\n",
    "    'has',\n",
    "    'struts towards',\n",
    "    'spices',\n",
    "    'enchants through',\n",
    "    'incinerates',\n",
    "    'autoclaves',\n",
    "    'loves',\n",
    "    'follows',\n",
    "    'breathes',\n",
    "    'hums',\n",
    "    'strums'\n",
    "]"
   ]
  },
  {
   "cell_type": "code",
   "execution_count": 23,
   "metadata": {},
   "outputs": [
    {
     "name": "stdout",
     "output_type": "stream",
     "text": [
      "Honey Time...\n",
      "\n",
      "We are their purple Julius Beaker. Your\n",
      "centrifugal Hot Hands strums my horse girl.\n",
      "Your acrylic oyster softly breathes my\n",
      "centrifugal flagella: my guided jawn\n",
      "affirmation junction. We are their silky\n",
      "Brady Bunch.\n",
      "\n",
      "Ours quickly...\n",
      " <3 smb\n"
     ]
    }
   ],
   "source": [
    "# comments updated from love letter generator example when necessary to match code updates\n",
    "# textwrap library used to \"wrap\" the text at a particular length\n",
    "import textwrap\n",
    "import random\n",
    "\n",
    "# output begins with salutation\n",
    "output = random.choice(sal_adjs) + \" \" + random.choice(sal_nouns) + \"...\\n\"\n",
    "output += \"\\n\"\n",
    "\n",
    "# inside this loop, build the phrases. strachey implemented \"short\" phrases\n",
    "# and \"long\" phrases; two or more \"short\" phrases in a row have special\n",
    "# formatting rules, so we need to know what the last phrase kind was in\n",
    "# order to generate the output.\n",
    "history = []\n",
    "body = \"\"\n",
    "for i in range(5):\n",
    "    kind = random.choice([\"short\", \"long\"])\n",
    "    if kind == \"long\":\n",
    "        # adjectives and adverbs will be present only 50% of the time\n",
    "        line = \" \".join([\n",
    "            \"Your\",\n",
    "            random.choice([random.choice(adjs), \"\"]),\n",
    "            random.choice(nouns),\n",
    "            random.choice([random.choice(advs), \"\"]),\n",
    "            random.choice(verbs),\n",
    "            \"my\",\n",
    "            random.choice([random.choice(adjs), \"\"]),\n",
    "            random.choice(nouns)])\n",
    "        body += line\n",
    "    else:\n",
    "        adj_noun = random.choice(adjs) + \" \" + random.choice(nouns)\n",
    "        # if the last phrase was \"long,\" use truncated form, switched from the original \"short\"\n",
    "        if len(history) > 0 and history[-1] == \"long\":\n",
    "            body += \": my \" + adj_noun\n",
    "        else:\n",
    "            body += \"We are their \" + adj_noun\n",
    "    body += \". \"\n",
    "    history.append(kind)\n",
    "# clean up output\n",
    "body = body.replace(\"  \", \" \")\n",
    "body = body.replace(\". :\", \":\")\n",
    "# put everything together\n",
    "output += textwrap.fill(body, 45)\n",
    "output += \"\\n\\nOurs \" + random.choice(advs) + \"...\\n\"\n",
    "output += \" <3 smb\"\n",
    "print(output)"
   ]
  },
  {
   "cell_type": "code",
   "execution_count": null,
   "metadata": {},
   "outputs": [],
   "source": []
  }
 ],
 "metadata": {
  "kernelspec": {
   "display_name": "Python 3 (ipykernel)",
   "language": "python",
   "name": "python3"
  },
  "language_info": {
   "codemirror_mode": {
    "name": "ipython",
    "version": 3
   },
   "file_extension": ".py",
   "mimetype": "text/x-python",
   "name": "python",
   "nbconvert_exporter": "python",
   "pygments_lexer": "ipython3",
   "version": "3.7.3"
  }
 },
 "nbformat": 4,
 "nbformat_minor": 2
}
